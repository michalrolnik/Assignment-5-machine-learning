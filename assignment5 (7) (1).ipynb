{
 "cells": [
  {
   "cell_type": "markdown",
   "metadata": {
    "id": "kkLFV3v5cFWE"
   },
   "source": [
    "# Assignment 5 - Text Analysis\n",
    "An explanation this assignment could be found in the .pdf explanation document"
   ]
  },
  {
   "cell_type": "markdown",
   "metadata": {
    "id": "IVC_xFCMcFWG"
   },
   "source": [
    "\n",
    "## Materials to review for this assignment\n",
    "<h4>From Moodle:</h4> \n",
    "<h5><u>Review the notebooks regarding the following python topics</u>:</h5>\n",
    "<div class=\"alert alert-info\">\n",
    "&#x2714; <b>Working with strings</b> (tutorial notebook)<br/>\n",
    "&#x2714; <b>Text Analysis</b> (tutorial notebook)<br/>\n",
    "&#x2714; <b>Hebrew text analysis tools (tokenizer, wordnet)</b> (moodle example)<br/>\n",
    "&#x2714; <b>(brief review) All previous notebooks</b><br/>\n",
    "</div> \n",
    "<h5><u>Review the presentations regarding the following topics</u>:</h5>\n",
    "<div class=\"alert alert-info\">\n",
    "&#x2714; <b>Text Analysis</b> (lecture presentation)<br/>\n",
    "&#x2714; <b>(brief review) All other presentations</b><br/>\n",
    "</div>"
   ]
  },
  {
   "cell_type": "markdown",
   "metadata": {
    "id": "m0Ckja3dcFWG"
   },
   "source": [
    "## Preceding Step - import modules (packages)\n",
    "This step is necessary in order to use external modules (packages). <br/>"
   ]
  },
  {
   "cell_type": "code",
   "execution_count": 1,
   "metadata": {
    "id": "Lr811OllcFWG"
   },
   "outputs": [],
   "source": [
    "# --------------------------------------\n",
    "import pandas as pd\n",
    "import numpy as np\n",
    "# --------------------------------------\n",
    "\n",
    "import pickle \n",
    "# --------------------------------------\n",
    "# ------------- visualizations:\n",
    "import seaborn as sns\n",
    "import matplotlib.pyplot as plt\n",
    "from matplotlib.colors import ListedColormap\n",
    "# --------------------------------------\n",
    "\n",
    "\n",
    "# ---------------------------------------\n",
    "import sklearn\n",
    "from sklearn import preprocessing, metrics, pipeline, model_selection, feature_extraction \n",
    "from sklearn import naive_bayes, linear_model, svm, neural_network, neighbors, tree\n",
    "from sklearn import decomposition, cluster\n",
    "\n",
    "from sklearn.model_selection import train_test_split, cross_val_score, GridSearchCV \n",
    "from sklearn.pipeline import Pipeline\n",
    "from sklearn.metrics import accuracy_score, confusion_matrix\n",
    "from sklearn.metrics import precision_score, recall_score, f1_score\n",
    "from sklearn.metrics import mean_squared_error, r2_score, silhouette_score\n",
    "from sklearn.preprocessing import MinMaxScaler, StandardScaler, LabelEncoder\n",
    "\n",
    "from sklearn.svm import LinearSVC\n",
    "from sklearn.neural_network import MLPClassifier\n",
    "from sklearn.linear_model import Perceptron, SGDClassifier\n",
    "from sklearn.decomposition import PCA\n",
    "from sklearn.cluster import KMeans\n",
    "from sklearn.naive_bayes import MultinomialNB, GaussianNB\n",
    "from sklearn.neighbors import KNeighborsClassifier\n",
    "from sklearn.tree import DecisionTreeClassifier\n",
    "# ---------------------------------------\n",
    "\n",
    "\n",
    "# ----------------- output and visualizations: \n",
    "import warnings\n",
    "from sklearn.exceptions import ConvergenceWarning\n",
    "warnings.simplefilter(\"ignore\")\n",
    "warnings.simplefilter(action='ignore', category=FutureWarning)\n",
    "warnings.simplefilter(\"ignore\", category=ConvergenceWarning)\n",
    "# show several prints in one cell. This will allow us to condence every trick in one cell.\n",
    "from IPython.core.interactiveshell import InteractiveShell\n",
    "InteractiveShell.ast_node_interactivity = \"all\"\n",
    "%matplotlib inline\n",
    "pd.pandas.set_option('display.max_columns', None)\n",
    "pd.set_option('display.float_format', lambda x: '%.3f' % x)\n",
    "# ---------------------------------------"
   ]
  },
  {
   "cell_type": "markdown",
   "metadata": {
    "id": "o1yGZpG7cFWI"
   },
   "source": [
    "### Text analysis and String manipulation imports:"
   ]
  },
  {
   "cell_type": "code",
   "execution_count": 2,
   "metadata": {
    "id": "CGV3apagcFWI"
   },
   "outputs": [],
   "source": [
    "# --------------------------------------\n",
    "# --------- Text analysis and Hebrew text analysis imports:\n",
    "# vectorizers:\n",
    "from sklearn.feature_extraction import text\n",
    "from sklearn.feature_extraction.text import CountVectorizer, TfidfVectorizer\n",
    "\n",
    "# regular expressions:\n",
    "import re\n",
    "# --------------------------------------"
   ]
  },
  {
   "cell_type": "markdown",
   "metadata": {
    "id": "R8KQBhPxcFWI"
   },
   "source": [
    "### (optional) Hebrew text analysis - WordNet (for Hebrew)\n",
    "Note: the WordNet is not a must"
   ]
  },
  {
   "cell_type": "markdown",
   "metadata": {
    "id": "dIdldDikcFWI"
   },
   "source": [
    "#### (optional) Only if you didn't install Wordnet (for Hebrew) use:"
   ]
  },
  {
   "cell_type": "code",
   "execution_count": 3,
   "metadata": {
    "colab": {
     "base_uri": "https://localhost:8080/"
    },
    "id": "EarbgAJocFWI",
    "outputId": "8eb4aa87-1d0b-4a13-b35a-e6d7c2f02a98",
    "scrolled": true
   },
   "outputs": [
    {
     "name": "stdout",
     "output_type": "stream",
     "text": [
      "Defaulting to user installation because normal site-packages is not writeable\n",
      "Requirement already satisfied: wn in c:\\users\\michal\\appdata\\roaming\\python\\python39\\site-packages (0.9.4)\n",
      "Requirement already satisfied: tomli in c:\\programdata\\anaconda3\\lib\\site-packages (from wn) (2.0.1)\n",
      "Requirement already satisfied: requests in c:\\programdata\\anaconda3\\lib\\site-packages (from wn) (2.28.1)\n",
      "Requirement already satisfied: charset-normalizer<3,>=2 in c:\\programdata\\anaconda3\\lib\\site-packages (from requests->wn) (2.0.4)\n",
      "Requirement already satisfied: urllib3<1.27,>=1.21.1 in c:\\programdata\\anaconda3\\lib\\site-packages (from requests->wn) (1.26.11)\n",
      "Requirement already satisfied: idna<4,>=2.5 in c:\\programdata\\anaconda3\\lib\\site-packages (from requests->wn) (3.3)\n",
      "Requirement already satisfied: certifi>=2017.4.17 in c:\\programdata\\anaconda3\\lib\\site-packages (from requests->wn) (2022.9.14)\n"
     ]
    },
    {
     "name": "stderr",
     "output_type": "stream",
     "text": [
      "\n",
      "\u001b[KCached file found: C:\\Users\\Michal\\.wn_data\\downloads\\7ecf10e89326bc0ac26ad94b40fe60a7b6ac3302\n",
      "\n",
      "\u001b[KChecking C:\\Users\\Michal\\AppData\\Local\\Temp\\tmpye2zrboo\\omw-he\\omw-he.xml\n",
      "\u001b[KSkipping omw-he:1.4 (Hebrew Wordnet); already added\n",
      "\n"
     ]
    }
   ],
   "source": [
    "# word net installation:\n",
    "\n",
    "# unmark if you want to use and need to install\n",
    "!pip install wn\n",
    "!python -m wn download omw-he:1.4"
   ]
  },
  {
   "cell_type": "code",
   "execution_count": 4,
   "metadata": {
    "id": "6WT7umCBcFWJ"
   },
   "outputs": [],
   "source": [
    "# word net import:\n",
    "\n",
    "# unmark if you want to use:\n",
    "import wn"
   ]
  },
  {
   "cell_type": "markdown",
   "metadata": {
    "id": "Bm0F-LMocFWJ"
   },
   "source": [
    "### (optional) Hebrew text analysis - hebrew_tokenizer (Tokenizer for Hebrew)\n",
    "Note: the hebrew_tokenizer is not a must"
   ]
  },
  {
   "cell_type": "markdown",
   "metadata": {
    "id": "Boc0niU6cFWJ"
   },
   "source": [
    "#### (optional) Only if you didn't install hebrew_tokenizer use:"
   ]
  },
  {
   "cell_type": "code",
   "execution_count": 5,
   "metadata": {
    "colab": {
     "base_uri": "https://localhost:8080/"
    },
    "id": "pi1uP2UZcFWJ",
    "outputId": "b04db099-de43-470e-8833-9e1725ffd90b"
   },
   "outputs": [
    {
     "name": "stdout",
     "output_type": "stream",
     "text": [
      "Defaulting to user installation because normal site-packages is not writeable\n",
      "Requirement already satisfied: hebrew_tokenizer in c:\\users\\michal\\appdata\\roaming\\python\\python39\\site-packages (2.3.0)\n"
     ]
    }
   ],
   "source": [
    "# Hebrew tokenizer installation:\n",
    "\n",
    "# unmark if you want to use and need to install:\n",
    "!pip install hebrew_tokenizer"
   ]
  },
  {
   "cell_type": "code",
   "execution_count": 6,
   "metadata": {
    "id": "6dtbBoqPcFWJ"
   },
   "outputs": [
    {
     "name": "stdout",
     "output_type": "stream",
     "text": [
      "C:\\Users\\Michal\n"
     ]
    }
   ],
   "source": [
    "# Hebrew tokenizer import:\n",
    "\n",
    "# unmark if you want to use:\n",
    "import hebrew_tokenizer as ht"
   ]
  },
  {
   "cell_type": "markdown",
   "metadata": {
    "id": "XzUIXTxjcFWJ"
   },
   "source": [
    "### Reading input files\n",
    "Reading input files for train annotated corpus (raw text data) corpus and for the test corpus"
   ]
  },
  {
   "cell_type": "code",
   "execution_count": 7,
   "metadata": {
    "id": "GdyKJd24cFWJ"
   },
   "outputs": [],
   "source": [
    "train_filename = 'C:\\\\Users\\Michal\\\\Downloads\\\\annotated_corpus_for_train.csv'\n",
    "test_filename  = 'C:\\\\Users\\\\Michal\\\\Downloads\\\\corpus_for_test.csv'\n",
    "df_train = pd.read_csv(train_filename, index_col=None, encoding='utf-8')\n",
    "df_test  = pd.read_csv(test_filename, index_col=None, encoding='utf-8')"
   ]
  },
  {
   "cell_type": "code",
   "execution_count": 8,
   "metadata": {
    "colab": {
     "base_uri": "https://localhost:8080/",
     "height": 317
    },
    "id": "p-chvfKpcFWK",
    "outputId": "702dd751-4985-456d-f59c-bb0d01521663"
   },
   "outputs": [
    {
     "data": {
      "text/html": [
       "<div>\n",
       "<style scoped>\n",
       "    .dataframe tbody tr th:only-of-type {\n",
       "        vertical-align: middle;\n",
       "    }\n",
       "\n",
       "    .dataframe tbody tr th {\n",
       "        vertical-align: top;\n",
       "    }\n",
       "\n",
       "    .dataframe thead th {\n",
       "        text-align: right;\n",
       "    }\n",
       "</style>\n",
       "<table border=\"1\" class=\"dataframe\">\n",
       "  <thead>\n",
       "    <tr style=\"text-align: right;\">\n",
       "      <th></th>\n",
       "      <th>story</th>\n",
       "      <th>gender</th>\n",
       "    </tr>\n",
       "  </thead>\n",
       "  <tbody>\n",
       "    <tr>\n",
       "      <th>0</th>\n",
       "      <td>כשחבר הזמין אותי לחול, לא באמת חשבתי שזה יקרה,...</td>\n",
       "      <td>m</td>\n",
       "    </tr>\n",
       "    <tr>\n",
       "      <th>1</th>\n",
       "      <td>לפני שהתגייסתי לצבא עשיתי כל מני מיונים ליחידו...</td>\n",
       "      <td>m</td>\n",
       "    </tr>\n",
       "    <tr>\n",
       "      <th>2</th>\n",
       "      <td>מאז שהתחילו הלימודים חלומו של כל סטודנט זה הפנ...</td>\n",
       "      <td>f</td>\n",
       "    </tr>\n",
       "    <tr>\n",
       "      <th>3</th>\n",
       "      <td>כשהייתי ילד, מטוסים היה הדבר שהכי ריתק אותי. ב...</td>\n",
       "      <td>m</td>\n",
       "    </tr>\n",
       "    <tr>\n",
       "      <th>4</th>\n",
       "      <td>‏הייתי מדריכה בכפר נוער ומתאם הכפר היינו צריכי...</td>\n",
       "      <td>f</td>\n",
       "    </tr>\n",
       "    <tr>\n",
       "      <th>5</th>\n",
       "      <td>לפני כ3 חודשים טסתי לרומא למשך שבוע. טסתי במטו...</td>\n",
       "      <td>f</td>\n",
       "    </tr>\n",
       "    <tr>\n",
       "      <th>6</th>\n",
       "      <td>אני כבר שנתיים נשוי והשנה אני ואישתי סוף סוף י...</td>\n",
       "      <td>m</td>\n",
       "    </tr>\n",
       "    <tr>\n",
       "      <th>7</th>\n",
       "      <td>השנה התחלנו שיפוץ בדירה שלנו בתל אביב. הדירה ה...</td>\n",
       "      <td>f</td>\n",
       "    </tr>\n",
       "  </tbody>\n",
       "</table>\n",
       "</div>"
      ],
      "text/plain": [
       "                                               story gender\n",
       "0  כשחבר הזמין אותי לחול, לא באמת חשבתי שזה יקרה,...      m\n",
       "1  לפני שהתגייסתי לצבא עשיתי כל מני מיונים ליחידו...      m\n",
       "2  מאז שהתחילו הלימודים חלומו של כל סטודנט זה הפנ...      f\n",
       "3  כשהייתי ילד, מטוסים היה הדבר שהכי ריתק אותי. ב...      m\n",
       "4  ‏הייתי מדריכה בכפר נוער ומתאם הכפר היינו צריכי...      f\n",
       "5  לפני כ3 חודשים טסתי לרומא למשך שבוע. טסתי במטו...      f\n",
       "6  אני כבר שנתיים נשוי והשנה אני ואישתי סוף סוף י...      m\n",
       "7  השנה התחלנו שיפוץ בדירה שלנו בתל אביב. הדירה ה...      f"
      ]
     },
     "execution_count": 8,
     "metadata": {},
     "output_type": "execute_result"
    },
    {
     "data": {
      "text/plain": [
       "(753, 2)"
      ]
     },
     "execution_count": 8,
     "metadata": {},
     "output_type": "execute_result"
    }
   ],
   "source": [
    "df_train.head(8)\n",
    "df_train.shape"
   ]
  },
  {
   "cell_type": "code",
   "execution_count": 9,
   "metadata": {
    "colab": {
     "base_uri": "https://localhost:8080/",
     "height": 160
    },
    "id": "vtNnLsj6cFWK",
    "outputId": "4edd523f-561c-442d-fb3e-d02f3c626147"
   },
   "outputs": [
    {
     "data": {
      "text/html": [
       "<div>\n",
       "<style scoped>\n",
       "    .dataframe tbody tr th:only-of-type {\n",
       "        vertical-align: middle;\n",
       "    }\n",
       "\n",
       "    .dataframe tbody tr th {\n",
       "        vertical-align: top;\n",
       "    }\n",
       "\n",
       "    .dataframe thead th {\n",
       "        text-align: right;\n",
       "    }\n",
       "</style>\n",
       "<table border=\"1\" class=\"dataframe\">\n",
       "  <thead>\n",
       "    <tr style=\"text-align: right;\">\n",
       "      <th></th>\n",
       "      <th>test_example_id</th>\n",
       "      <th>story</th>\n",
       "    </tr>\n",
       "  </thead>\n",
       "  <tbody>\n",
       "    <tr>\n",
       "      <th>0</th>\n",
       "      <td>0</td>\n",
       "      <td>כל קיץ אני והמשפחה נוסעים לארצות הברית לוס אנג...</td>\n",
       "    </tr>\n",
       "    <tr>\n",
       "      <th>1</th>\n",
       "      <td>1</td>\n",
       "      <td>הגעתי לשירות המדינה אחרי שנתיים כפעיל בתנועת \"...</td>\n",
       "    </tr>\n",
       "    <tr>\n",
       "      <th>2</th>\n",
       "      <td>2</td>\n",
       "      <td>אחת האהבות הגדולות שלי אלו הכלבים שלי ושל אישת...</td>\n",
       "    </tr>\n",
       "  </tbody>\n",
       "</table>\n",
       "</div>"
      ],
      "text/plain": [
       "   test_example_id                                              story\n",
       "0                0  כל קיץ אני והמשפחה נוסעים לארצות הברית לוס אנג...\n",
       "1                1  הגעתי לשירות המדינה אחרי שנתיים כפעיל בתנועת \"...\n",
       "2                2  אחת האהבות הגדולות שלי אלו הכלבים שלי ושל אישת..."
      ]
     },
     "execution_count": 9,
     "metadata": {},
     "output_type": "execute_result"
    },
    {
     "data": {
      "text/plain": [
       "(323, 2)"
      ]
     },
     "execution_count": 9,
     "metadata": {},
     "output_type": "execute_result"
    }
   ],
   "source": [
    "df_test.head(3)\n",
    "df_test.shape"
   ]
  },
  {
   "cell_type": "markdown",
   "metadata": {
    "id": "T6EDujLxcFWK"
   },
   "source": [
    "### Your implementation:\n",
    "Write your code solution in the following code-cells"
   ]
  },
  {
   "cell_type": "markdown",
   "metadata": {
    "id": "WZ28nMzofGWb"
   },
   "source": [
    "# Preprocess"
   ]
  },
  {
   "cell_type": "code",
   "execution_count": 10,
   "metadata": {
    "colab": {
     "base_uri": "https://localhost:8080/"
    },
    "id": "U6qeGTKchLTL",
    "outputId": "f4836afb-984f-493f-fcd4-2768a354015a"
   },
   "outputs": [
    {
     "name": "stdout",
     "output_type": "stream",
     "text": [
      "('HEBREW', 'אתמול', 0, (0, 5))\n",
      "('HEBREW', 'הלכתי', 1, (6, 11))\n",
      "('HEBREW', 'הביתה', 2, (12, 17))\n"
     ]
    }
   ],
   "source": [
    "a = 'אתמול הלכתי הביתה'\n",
    "tokens = ht.tokenize(a)\n",
    "for token in tokens:\n",
    "  print(token)\n",
    "\n",
    "# tokens (language, word , word_index, (start, end))"
   ]
  },
  {
   "cell_type": "code",
   "execution_count": 11,
   "metadata": {
    "id": "NbfhdjhZcFWK"
   },
   "outputs": [],
   "source": [
    "# YOUR CODE HERE\n",
    "\n",
    "def preprocess(text):\n",
    "\n",
    "  text = re.sub(r'\\d+', '', text) # removing all digits.\n",
    "  text = re.sub(r'[^\\w\\s]', '', text) # removing all punctuation.\n",
    "  text = re.sub(r'\\s+', ' ', text) # replacing multi-space to one space.\n",
    "  text = text.strip() # removing all spaces before and after text.\n",
    "\n",
    "  text_preproccesed = ''\n",
    "\n",
    "  tokens = ht.tokenize(text)\n",
    "  for language, word, _, _ in tokens:\n",
    "    if language == 'HEBREW':\n",
    "      text_preproccesed += word + ' '\n",
    "  \n",
    "  return text_preproccesed\n",
    "\n",
    "\n",
    "\n",
    "# print(preprocess('סתם כותב, כדי לראות מה? זה מחזיר? נוסיף גם word באנגלית'))"
   ]
  },
  {
   "cell_type": "code",
   "execution_count": 12,
   "metadata": {
    "id": "rUlTP9AXg1gR"
   },
   "outputs": [],
   "source": [
    "# applying preprocess on our data.\n",
    "df_train['story'] = df_train['story'].apply(preprocess)\n",
    "df_test['story'] = df_test['story'].apply(preprocess)\n",
    "\n",
    "# changing labels to be 1 for men and 0 for women\n",
    "df_train['gender'] = np.where(df_train['gender'] == 'm',1,0)\n"
   ]
  },
  {
   "cell_type": "code",
   "execution_count": 13,
   "metadata": {
    "id": "IE9PFGyrnWRV"
   },
   "outputs": [],
   "source": [
    "X_train= df_train['story']\n",
    "y_train=df_train['gender']\n"
   ]
  },
  {
   "cell_type": "code",
   "execution_count": 14,
   "metadata": {
    "colab": {
     "base_uri": "https://localhost:8080/",
     "height": 423
    },
    "id": "fS1lwGiBqzKp",
    "outputId": "610f994a-c1b0-418c-c581-9b84b4121fa6"
   },
   "outputs": [
    {
     "data": {
      "text/html": [
       "<div>\n",
       "<style scoped>\n",
       "    .dataframe tbody tr th:only-of-type {\n",
       "        vertical-align: middle;\n",
       "    }\n",
       "\n",
       "    .dataframe tbody tr th {\n",
       "        vertical-align: top;\n",
       "    }\n",
       "\n",
       "    .dataframe thead th {\n",
       "        text-align: right;\n",
       "    }\n",
       "</style>\n",
       "<table border=\"1\" class=\"dataframe\">\n",
       "  <thead>\n",
       "    <tr style=\"text-align: right;\">\n",
       "      <th></th>\n",
       "      <th>test_example_id</th>\n",
       "      <th>story</th>\n",
       "    </tr>\n",
       "  </thead>\n",
       "  <tbody>\n",
       "    <tr>\n",
       "      <th>0</th>\n",
       "      <td>0</td>\n",
       "      <td>כל קיץ אני והמשפחה נוסעים לארצות הברית לוס אנג...</td>\n",
       "    </tr>\n",
       "    <tr>\n",
       "      <th>1</th>\n",
       "      <td>1</td>\n",
       "      <td>הגעתי לשירות המדינה אחרי שנתיים כפעיל בתנועת י...</td>\n",
       "    </tr>\n",
       "    <tr>\n",
       "      <th>2</th>\n",
       "      <td>2</td>\n",
       "      <td>אחת האהבות הגדולות שלי אלו הכלבים שלי ושל אישת...</td>\n",
       "    </tr>\n",
       "    <tr>\n",
       "      <th>3</th>\n",
       "      <td>3</td>\n",
       "      <td>רגע הגיוס לצבא היה הרגע הכי משמעותי עבורי אני ...</td>\n",
       "    </tr>\n",
       "    <tr>\n",
       "      <th>4</th>\n",
       "      <td>4</td>\n",
       "      <td>אני הגעתי לברזיל ישר מקולומביה וגם אני עשיתי ע...</td>\n",
       "    </tr>\n",
       "    <tr>\n",
       "      <th>...</th>\n",
       "      <td>...</td>\n",
       "      <td>...</td>\n",
       "    </tr>\n",
       "    <tr>\n",
       "      <th>318</th>\n",
       "      <td>318</td>\n",
       "      <td>בשנה האחרונה הרגשתי די תקוע בעבודה השגרה הפכה ...</td>\n",
       "    </tr>\n",
       "    <tr>\n",
       "      <th>319</th>\n",
       "      <td>319</td>\n",
       "      <td>אני ואילן חברים טובים מזה שנה תמיד חלמנו לפתח ...</td>\n",
       "    </tr>\n",
       "    <tr>\n",
       "      <th>320</th>\n",
       "      <td>320</td>\n",
       "      <td>מידי יום שישי אני נוהג לנסוע בתחבורה ציבורית ס...</td>\n",
       "    </tr>\n",
       "    <tr>\n",
       "      <th>321</th>\n",
       "      <td>321</td>\n",
       "      <td>לפני מספר חודשים בשיא התחלואה של הגל השני עמית...</td>\n",
       "    </tr>\n",
       "    <tr>\n",
       "      <th>322</th>\n",
       "      <td>322</td>\n",
       "      <td>היום בו דיווחתי על גניבה של האוטו שלי בוקר אחד...</td>\n",
       "    </tr>\n",
       "  </tbody>\n",
       "</table>\n",
       "<p>323 rows × 2 columns</p>\n",
       "</div>"
      ],
      "text/plain": [
       "     test_example_id                                              story\n",
       "0                  0  כל קיץ אני והמשפחה נוסעים לארצות הברית לוס אנג...\n",
       "1                  1  הגעתי לשירות המדינה אחרי שנתיים כפעיל בתנועת י...\n",
       "2                  2  אחת האהבות הגדולות שלי אלו הכלבים שלי ושל אישת...\n",
       "3                  3  רגע הגיוס לצבא היה הרגע הכי משמעותי עבורי אני ...\n",
       "4                  4  אני הגעתי לברזיל ישר מקולומביה וגם אני עשיתי ע...\n",
       "..               ...                                                ...\n",
       "318              318  בשנה האחרונה הרגשתי די תקוע בעבודה השגרה הפכה ...\n",
       "319              319  אני ואילן חברים טובים מזה שנה תמיד חלמנו לפתח ...\n",
       "320              320  מידי יום שישי אני נוהג לנסוע בתחבורה ציבורית ס...\n",
       "321              321  לפני מספר חודשים בשיא התחלואה של הגל השני עמית...\n",
       "322              322  היום בו דיווחתי על גניבה של האוטו שלי בוקר אחד...\n",
       "\n",
       "[323 rows x 2 columns]"
      ]
     },
     "execution_count": 14,
     "metadata": {},
     "output_type": "execute_result"
    }
   ],
   "source": [
    "df_test"
   ]
  },
  {
   "cell_type": "markdown",
   "metadata": {
    "id": "ZwpOgrtOBH9n"
   },
   "source": []
  },
  {
   "cell_type": "code",
   "execution_count": 15,
   "metadata": {
    "colab": {
     "base_uri": "https://localhost:8080/"
    },
    "id": "3OfXczLzBJNb",
    "outputId": "b0c55b7a-ff23-4cbe-b9bd-f414024bfd56"
   },
   "outputs": [
    {
     "name": "stdout",
     "output_type": "stream",
     "text": [
      "0      1\n",
      "1      1\n",
      "2      0\n",
      "3      1\n",
      "4      0\n",
      "      ..\n",
      "748    1\n",
      "749    1\n",
      "750    1\n",
      "751    0\n",
      "752    1\n",
      "Name: gender, Length: 753, dtype: int32\n"
     ]
    }
   ],
   "source": [
    "print(y_train)"
   ]
  },
  {
   "cell_type": "markdown",
   "metadata": {
    "id": "zcNMx1h85YIR"
   },
   "source": [
    "## FINDING THE BEST MODEL "
   ]
  },
  {
   "cell_type": "code",
   "execution_count": 18,
   "metadata": {
    "colab": {
     "base_uri": "https://localhost:8080/",
     "height": 1000
    },
    "id": "pENEAP33cFWK",
    "outputId": "33eb4032-cf58-4957-9edd-caf9b37e0229",
    "scrolled": true
   },
   "outputs": [
    {
     "name": "stdout",
     "output_type": "stream",
     "text": [
      "parameters:  <bound method BaseEstimator.get_params of GridSearchCV(cv=10,\n",
      "             estimator=Pipeline(steps=[('tfidf', TfidfVectorizer()),\n",
      "                                       ('norm',\n",
      "                                        StandardScaler(with_mean=False)),\n",
      "                                       ('clf', Perceptron())]),\n",
      "             param_grid={'clf__alpha': [0.001, 0.01],\n",
      "                         'tfidf__min_df': [1, 3, 5],\n",
      "                         'tfidf__ngram_range': [(1, 1), (1, 2)]},\n",
      "             scoring='f1_macro')>\n"
     ]
    },
    {
     "data": {
      "text/plain": [
       "GridSearchCV(cv=10,\n",
       "             estimator=Pipeline(steps=[('tfidf', TfidfVectorizer()),\n",
       "                                       ('norm',\n",
       "                                        StandardScaler(with_mean=False)),\n",
       "                                       ('clf', Perceptron())]),\n",
       "             param_grid={'clf__alpha': [0.001, 0.01],\n",
       "                         'tfidf__min_df': [1, 3, 5],\n",
       "                         'tfidf__ngram_range': [(1, 1), (1, 2)]},\n",
       "             scoring='f1_macro')"
      ]
     },
     "execution_count": 18,
     "metadata": {},
     "output_type": "execute_result"
    },
    {
     "name": "stdout",
     "output_type": "stream",
     "text": [
      "parameters:  <bound method BaseEstimator.get_params of GridSearchCV(cv=10,\n",
      "             estimator=Pipeline(steps=[('tfidf', TfidfVectorizer()),\n",
      "                                       ('norm',\n",
      "                                        StandardScaler(with_mean=False)),\n",
      "                                       ('clf', SGDClassifier())]),\n",
      "             param_grid={'clf__alpha': [0.001, 0.01],\n",
      "                         'clf__penalty': ['l1', 'l2'],\n",
      "                         'tfidf__min_df': [1, 3, 5],\n",
      "                         'tfidf__ngram_range': [(1, 1), (1, 2)]},\n",
      "             scoring='f1_macro')>\n"
     ]
    },
    {
     "data": {
      "text/plain": [
       "GridSearchCV(cv=10,\n",
       "             estimator=Pipeline(steps=[('tfidf', TfidfVectorizer()),\n",
       "                                       ('norm',\n",
       "                                        StandardScaler(with_mean=False)),\n",
       "                                       ('clf', SGDClassifier())]),\n",
       "             param_grid={'clf__alpha': [0.001, 0.01],\n",
       "                         'clf__penalty': ['l1', 'l2'],\n",
       "                         'tfidf__min_df': [1, 3, 5],\n",
       "                         'tfidf__ngram_range': [(1, 1), (1, 2)]},\n",
       "             scoring='f1_macro')"
      ]
     },
     "execution_count": 18,
     "metadata": {},
     "output_type": "execute_result"
    },
    {
     "name": "stdout",
     "output_type": "stream",
     "text": [
      "parameters:  <bound method BaseEstimator.get_params of GridSearchCV(cv=10,\n",
      "             estimator=Pipeline(steps=[('tfidf', TfidfVectorizer()),\n",
      "                                       ('norm',\n",
      "                                        StandardScaler(with_mean=False)),\n",
      "                                       ('clf', LinearSVC())]),\n",
      "             param_grid={'clf__C': [0.1, 1.0], 'clf__penalty': ['l1', 'l2'],\n",
      "                         'tfidf__min_df': [1, 3, 5],\n",
      "                         'tfidf__ngram_range': [(1, 1), (1, 2)]},\n",
      "             scoring='f1_macro')>\n"
     ]
    },
    {
     "data": {
      "text/plain": [
       "GridSearchCV(cv=10,\n",
       "             estimator=Pipeline(steps=[('tfidf', TfidfVectorizer()),\n",
       "                                       ('norm',\n",
       "                                        StandardScaler(with_mean=False)),\n",
       "                                       ('clf', LinearSVC())]),\n",
       "             param_grid={'clf__C': [0.1, 1.0], 'clf__penalty': ['l1', 'l2'],\n",
       "                         'tfidf__min_df': [1, 3, 5],\n",
       "                         'tfidf__ngram_range': [(1, 1), (1, 2)]},\n",
       "             scoring='f1_macro')"
      ]
     },
     "execution_count": 18,
     "metadata": {},
     "output_type": "execute_result"
    },
    {
     "name": "stdout",
     "output_type": "stream",
     "text": [
      "Pipeline(steps=[('tfidf', TfidfVectorizer(min_df=3, ngram_range=(1, 2))),\n",
      "                ('norm', StandardScaler(with_mean=False)),\n",
      "                ('clf', SGDClassifier(alpha=0.001))])\n",
      "SGDClassifier\n"
     ]
    }
   ],
   "source": [
    "# YOUR CODE HERE- CROSS VALIDATION\\GREED SEARCH\n",
    "# YOUR CODE HERE- CROSS VALIDATION\\GREED SEARCH\n",
    "models = [\n",
    "    {\n",
    "        'name': 'Perceptron',\n",
    "        'pipeline': Pipeline([\n",
    "            ('tfidf', TfidfVectorizer()),\n",
    "            ('norm',StandardScaler(with_mean = False)),\n",
    "            ('clf', Perceptron())\n",
    "        ]),\n",
    "        'params': {\n",
    "            'tfidf__ngram_range': [(1,1), (1,2)],\n",
    "            'tfidf__min_df': [1,3,5],\n",
    "            'clf__alpha': [0.001,0.01]}\n",
    "        \n",
    "        \n",
    "        },\n",
    "    {\n",
    "        'name': 'SGDClassifier',\n",
    "        'pipeline': Pipeline([\n",
    "            ('tfidf', TfidfVectorizer()),\n",
    "            ('norm', StandardScaler(with_mean = False)),\n",
    "            ('clf', SGDClassifier())\n",
    "        ]),\n",
    "        'params': {\n",
    "            'tfidf__ngram_range': [(1,1), (1,2)],\n",
    "            'tfidf__min_df': [1,3,5], \n",
    "            'clf__alpha': [0.001,0.01],\n",
    "            'clf__penalty': ['l1', 'l2'],\n",
    "         }     } , \n",
    "        \n",
    "      {\n",
    "          'name': 'LinearSVC',\n",
    "          'pipeline': Pipeline([\n",
    "              ('tfidf', TfidfVectorizer()),\n",
    "              ('norm', StandardScaler(with_mean=False)),\n",
    "              ('clf', LinearSVC())\n",
    "          ]),\n",
    "          'params': {\n",
    "              'tfidf__ngram_range': [(1, 1), (1, 2)],\n",
    "              'tfidf__min_df': [1,3,5],\n",
    "              'clf__C': [0.1, 1.0],\n",
    "              'clf__penalty': ['l1', 'l2']\n",
    "          }\n",
    "      }\n",
    "    ]\n",
    "        \n",
    "      \n",
    "\n",
    "best_model=None\n",
    "best_F1score=0\n",
    "for model in models:\n",
    "\n",
    "  grid= GridSearchCV(model['pipeline'],param_grid=model['params'],cv=10,scoring='f1_macro')\n",
    "  print('parameters: ', grid.get_params)\n",
    "  grid.fit(X_train,y_train)\n",
    "\n",
    "\n",
    "  if grid.best_score_ > best_F1score:\n",
    "    best_F1score=grid.best_score_\n",
    "    best_model=grid.best_estimator_\n",
    "    best_model_name = model['name']\n",
    "print(best_model)\n",
    "print(best_model_name)\n",
    "\n",
    "        \n",
    "    \n",
    "    "
   ]
  },
  {
   "cell_type": "code",
   "execution_count": 19,
   "metadata": {
    "id": "g_QHG9LadE5J"
   },
   "outputs": [],
   "source": [
    "with open('bestmodel.pkl', 'wb') as file:#שמירת המודל הטוב ביותר על קובץ במקום להריץ \n",
    "    pickle.dump(best_model,file)"
   ]
  },
  {
   "cell_type": "code",
   "execution_count": 20,
   "metadata": {
    "id": "EQyOwyBFdxIj"
   },
   "outputs": [],
   "source": [
    "with open('bestmodel.pkl', 'rb') as file: #להריץ רק את זה\n",
    "    best_model = pickle.load(file)"
   ]
  },
  {
   "cell_type": "code",
   "execution_count": 21,
   "metadata": {
    "colab": {
     "base_uri": "https://localhost:8080/"
    },
    "id": "lOBN0jrzwz9E",
    "outputId": "ece44757-ba31-49f7-805a-0268a3df73d4"
   },
   "outputs": [
    {
     "name": "stdout",
     "output_type": "stream",
     "text": [
      "<bound method Pipeline.get_params of Pipeline(steps=[('tfidf', TfidfVectorizer(min_df=3, ngram_range=(1, 2))),\n",
      "                ('norm', StandardScaler(with_mean=False)),\n",
      "                ('clf', SGDClassifier(alpha=0.001))])>\n",
      "l2\n"
     ]
    }
   ],
   "source": [
    "print(best_model.get_params)\n",
    "print (best_model.named_steps['clf'].get_params()['penalty'])"
   ]
  },
  {
   "cell_type": "code",
   "execution_count": 22,
   "metadata": {
    "colab": {
     "base_uri": "https://localhost:8080/"
    },
    "id": "lDAWZDrFGDEo",
    "outputId": "ac711b38-ce64-4d2d-e8f3-33c357b0db2f"
   },
   "outputs": [
    {
     "name": "stdout",
     "output_type": "stream",
     "text": [
      "the F1 score is:  0.7054291125914152\n"
     ]
    }
   ],
   "source": [
    "print('the F1 score is: ' ,best_F1score)"
   ]
  },
  {
   "cell_type": "code",
   "execution_count": 23,
   "metadata": {
    "colab": {
     "base_uri": "https://localhost:8080/",
     "height": 271
    },
    "id": "suEf0AgpcFWL",
    "outputId": "4e43d6c5-4f2f-4c87-bed1-50b0ba094983"
   },
   "outputs": [
    {
     "data": {
      "text/plain": [
       "GridSearchCV(cv=10,\n",
       "             estimator=Pipeline(steps=[('tfidf', TfidfVectorizer()),\n",
       "                                       ('norm',\n",
       "                                        StandardScaler(with_mean=False)),\n",
       "                                       ('clf', SGDClassifier())]),\n",
       "             param_grid={'clf__alpha': [0.001], 'clf__eta0': [0.1, 0.01],\n",
       "                         'clf__learning_rate': ['optimal', 'adaptive'],\n",
       "                         'clf__loss': ['hinge', 'log'],\n",
       "                         'clf__max_iter': [1000, 2000], 'clf__penalty': ['l2'],\n",
       "                         'clf__tol': [0.001, 0.0001], 'tfidf__min_df': [3],\n",
       "                         'tfidf__ngram_range': [(1, 2)]},\n",
       "             scoring='f1_macro')"
      ]
     },
     "execution_count": 23,
     "metadata": {},
     "output_type": "execute_result"
    },
    {
     "name": "stdout",
     "output_type": "stream",
     "text": [
      "Pipeline(steps=[('tfidf', TfidfVectorizer(min_df=3, ngram_range=(1, 2))),\n",
      "                ('norm', StandardScaler(with_mean=False)),\n",
      "                ('clf',\n",
      "                 SGDClassifier(alpha=0.001, eta0=0.1, learning_rate='adaptive',\n",
      "                               loss='log', tol=0.0001))])\n"
     ]
    }
   ],
   "source": [
    "#doing another GridSearch only on the best model above\n",
    "sgd_model = {\n",
    "    'name': 'SGDClassifier',\n",
    "    'pipeline': Pipeline([\n",
    "        ('tfidf', TfidfVectorizer()),\n",
    "        ('norm', StandardScaler(with_mean=False)),\n",
    "        ('clf', SGDClassifier())\n",
    "    ]),\n",
    "    'params': {\n",
    "        'tfidf__ngram_range': [(1, 2)],\n",
    "        'tfidf__min_df': [3],\n",
    "        'clf__alpha': [0.001],\n",
    "        'clf__penalty': ['l2'],\n",
    "        'clf__max_iter': [1000, 2000],\n",
    "        'clf__tol': [1e-3, 1e-4],\n",
    "        'clf__loss': ['hinge', 'log'],\n",
    "        'clf__eta0': [0.1, 0.01],\n",
    "        'clf__learning_rate': ['optimal', 'adaptive'],\n",
    "    }\n",
    "}\n",
    "\n",
    "best_sgd_model = None\n",
    "best_sgd_F1score = 0\n",
    "\n",
    "sgd_grid = GridSearchCV(sgd_model['pipeline'], param_grid=sgd_model['params'], cv=10, scoring='f1_macro')\n",
    "sgd_grid.fit(X_train, y_train)\n",
    "\n",
    "if sgd_grid.best_score_ > best_sgd_F1score:\n",
    "    best_sgd_F1score = sgd_grid.best_score_\n",
    "    best_sgd_model = sgd_grid.best_estimator_\n",
    "\n",
    "print(best_sgd_model)\n"
   ]
  },
  {
   "cell_type": "code",
   "execution_count": 24,
   "metadata": {
    "id": "OSH9XWnUIMv-"
   },
   "outputs": [],
   "source": [
    "with open('bestSGDmodel.pkl', 'wb') as file:#שמירת המודל הטוב ביותר על קובץ במקום להריץ \n",
    "    pickle.dump(best_sgd_model,file)"
   ]
  },
  {
   "cell_type": "code",
   "execution_count": 25,
   "metadata": {
    "id": "5f4DyxXRIVzc"
   },
   "outputs": [],
   "source": [
    "with open('bestSGDmodel.pkl', 'rb') as file: #להריץ רק את זה\n",
    "    best_sgd_model = pickle.load(file)"
   ]
  },
  {
   "cell_type": "code",
   "execution_count": 26,
   "metadata": {
    "colab": {
     "base_uri": "https://localhost:8080/"
    },
    "id": "WOi9Gui4saaq",
    "outputId": "27f6c0e4-cef9-4ce5-dadf-56ec60b9bd34"
   },
   "outputs": [
    {
     "name": "stdout",
     "output_type": "stream",
     "text": [
      "the updated F1 score is 0.7201327666385294\n"
     ]
    }
   ],
   "source": [
    "\n",
    "print('the updated F1 score is', best_sgd_F1score)"
   ]
  },
  {
   "cell_type": "code",
   "execution_count": 27,
   "metadata": {
    "colab": {
     "base_uri": "https://localhost:8080/"
    },
    "id": "n3zZ9ft1KV4f",
    "outputId": "2237d12d-36b2-43c2-cbb2-a825dcc6d98f"
   },
   "outputs": [
    {
     "data": {
      "text/plain": [
       "<bound method Pipeline.get_params of Pipeline(steps=[('tfidf', TfidfVectorizer(min_df=3, ngram_range=(1, 2))),\n",
       "                ('norm', StandardScaler(with_mean=False)),\n",
       "                ('clf',\n",
       "                 SGDClassifier(alpha=0.001, eta0=0.1, learning_rate='adaptive',\n",
       "                               loss='log', tol=0.0001))])>"
      ]
     },
     "execution_count": 27,
     "metadata": {},
     "output_type": "execute_result"
    }
   ],
   "source": [
    "best_sgd_model.get_params"
   ]
  },
  {
   "cell_type": "code",
   "execution_count": 28,
   "metadata": {
    "colab": {
     "base_uri": "https://localhost:8080/",
     "height": 395
    },
    "id": "2HgTvUr7EZH4",
    "outputId": "4338b2bb-e557-4a29-ee30-85694bc6fdaf"
   },
   "outputs": [
    {
     "data": {
      "text/html": [
       "<div>\n",
       "<style scoped>\n",
       "    .dataframe tbody tr th:only-of-type {\n",
       "        vertical-align: middle;\n",
       "    }\n",
       "\n",
       "    .dataframe tbody tr th {\n",
       "        vertical-align: top;\n",
       "    }\n",
       "\n",
       "    .dataframe thead th {\n",
       "        text-align: right;\n",
       "    }\n",
       "</style>\n",
       "<table border=\"1\" class=\"dataframe\">\n",
       "  <thead>\n",
       "    <tr style=\"text-align: right;\">\n",
       "      <th></th>\n",
       "      <th>id_test</th>\n",
       "      <th>y_prediction</th>\n",
       "    </tr>\n",
       "  </thead>\n",
       "  <tbody>\n",
       "    <tr>\n",
       "      <th>0</th>\n",
       "      <td>0</td>\n",
       "      <td>m</td>\n",
       "    </tr>\n",
       "    <tr>\n",
       "      <th>1</th>\n",
       "      <td>1</td>\n",
       "      <td>m</td>\n",
       "    </tr>\n",
       "    <tr>\n",
       "      <th>2</th>\n",
       "      <td>2</td>\n",
       "      <td>m</td>\n",
       "    </tr>\n",
       "    <tr>\n",
       "      <th>3</th>\n",
       "      <td>3</td>\n",
       "      <td>m</td>\n",
       "    </tr>\n",
       "    <tr>\n",
       "      <th>4</th>\n",
       "      <td>4</td>\n",
       "      <td>m</td>\n",
       "    </tr>\n",
       "  </tbody>\n",
       "</table>\n",
       "</div>"
      ],
      "text/plain": [
       "   id_test y_prediction\n",
       "0        0            m\n",
       "1        1            m\n",
       "2        2            m\n",
       "3        3            m\n",
       "4        4            m"
      ]
     },
     "execution_count": 28,
     "metadata": {},
     "output_type": "execute_result"
    },
    {
     "data": {
      "text/html": [
       "<div>\n",
       "<style scoped>\n",
       "    .dataframe tbody tr th:only-of-type {\n",
       "        vertical-align: middle;\n",
       "    }\n",
       "\n",
       "    .dataframe tbody tr th {\n",
       "        vertical-align: top;\n",
       "    }\n",
       "\n",
       "    .dataframe thead th {\n",
       "        text-align: right;\n",
       "    }\n",
       "</style>\n",
       "<table border=\"1\" class=\"dataframe\">\n",
       "  <thead>\n",
       "    <tr style=\"text-align: right;\">\n",
       "      <th></th>\n",
       "      <th>id_test</th>\n",
       "      <th>y_predicion</th>\n",
       "    </tr>\n",
       "  </thead>\n",
       "  <tbody>\n",
       "    <tr>\n",
       "      <th>318</th>\n",
       "      <td>318</td>\n",
       "      <td>m</td>\n",
       "    </tr>\n",
       "    <tr>\n",
       "      <th>319</th>\n",
       "      <td>319</td>\n",
       "      <td>m</td>\n",
       "    </tr>\n",
       "    <tr>\n",
       "      <th>320</th>\n",
       "      <td>320</td>\n",
       "      <td>m</td>\n",
       "    </tr>\n",
       "    <tr>\n",
       "      <th>321</th>\n",
       "      <td>321</td>\n",
       "      <td>m</td>\n",
       "    </tr>\n",
       "    <tr>\n",
       "      <th>322</th>\n",
       "      <td>322</td>\n",
       "      <td>m</td>\n",
       "    </tr>\n",
       "  </tbody>\n",
       "</table>\n",
       "</div>"
      ],
      "text/plain": [
       "     id_test y_predicion\n",
       "318      318           m\n",
       "319      319           m\n",
       "320      320           m\n",
       "321      321           m\n",
       "322      322           m"
      ]
     },
     "execution_count": 28,
     "metadata": {},
     "output_type": "execute_result"
    }
   ],
   "source": [
    "y_prediction = best_sgd_model.predict(df_test[\"story\"])\n",
    "y_prediction = np.where(y_prediction == 1, 'm','f')\n",
    "pd.DataFrame({'id_test': df_test[\"test_example_id\"], 'y_prediction': y_prediction}).head(5)\n",
    "pd.DataFrame({'id_test': df_test[\"test_example_id\"], 'y_predicion': y_prediction}).tail(5)"
   ]
  },
  {
   "cell_type": "code",
   "execution_count": 29,
   "metadata": {
    "colab": {
     "base_uri": "https://localhost:8080/"
    },
    "id": "zbtsd6TvcFWL",
    "outputId": "d4ed68c3-0b6d-402e-c289-af5f0ee5e4f4"
   },
   "outputs": [
    {
     "name": "stdout",
     "output_type": "stream",
     "text": [
      "[1 1 1 1 1 1 1 0 1 1 0 1 1 1 1 1 1 1 0 1 0 1 1 1 1 1 1 1 1 1 1 1 1 1 1 1 1\n",
      " 1 1 1 1 1 0 1 1 1 1 1 1 1 0 1 0 1 1 1 1 1 0 1 1 1 1 0 1 1 1 0 1 1 1 1 1 0\n",
      " 0 1 1 1 1 1 1 1 1 1 1 1 1 0 1 1 1 0 1 1 0 1 1 1 1 0 1 1 1 0 1 1 1 1 1 1 1\n",
      " 1 0 1 1 1 1 1 0 1 1 1 1 1 1 0 0 0 1 1 1 1 0 1 1 1 1 1 1 1 1 0 1 1 1 1 1 0\n",
      " 1 1 1 0 1 0 1 1 1 1 1 1 1 1 0 1 1 1 1 1 1 0 1 1 1 1 1 1 1 1 1 1 1 1 1 1 1\n",
      " 1 1 1 1 1 1 1 1 1 1 1 1 1 1 0 0 1 0 1 1 1 1 1 0 1 0 1 1 1 1 1 1 1 1 1 1 1\n",
      " 0 0 1 1 1 1 1 0 1 1 1 1 1 1 0 1 1 1 1 0 1 0 1 1 1 1 0 1 1 1 0 1 1 1 1 0 1\n",
      " 0 1 1 1 1 1 1 1 0 1 1 1 1 1 1 1 1 1 1 1 1 1 1 1 1 1 1 1 1 1 1 1 0 1 1 1 1\n",
      " 1 1 0 1 1 1 1 1 1 1 1 1 1 1 1 1 1 1 0 1 0 1 1 1 1 1 1]\n"
     ]
    }
   ],
   "source": [
    "predictions = best_sgd_model.predict(df_test['story'])\n",
    "\n",
    "# Print the predictions\n",
    "print(predictions)"
   ]
  },
  {
   "cell_type": "markdown",
   "metadata": {
    "id": "QdMH9_GJcFWM"
   },
   "source": [
    "### Save output to csv (optional)\n",
    "After you're done save your output to the 'classification_results.csv' csv file.<br/>\n",
    "We assume that the dataframe with your results contain the following columns:\n",
    "* column 1 (left column): 'test_example_id'  - the same id associated to each of the test stories to be predicted.\n",
    "* column 2 (right column): 'predicted_category' - the predicted gender value for each of the associated story. \n",
    "\n",
    "Assuming your predicted values are in the `df_predicted` dataframe, you should save you're results as following:"
   ]
  },
  {
   "cell_type": "code",
   "execution_count": 30,
   "metadata": {
    "id": "I9BUegcqcFWM"
   },
   "outputs": [],
   "source": [
    "df_predicted = pd.DataFrame(\n",
    "    {'test_example_id': df_test['test_example_id'], 'predicted_category': y_prediction})\n",
    "df_predicted.to_csv('classification_results.csv',index=False)"
   ]
  },
  {
   "cell_type": "code",
   "execution_count": null,
   "metadata": {},
   "outputs": [],
   "source": []
  }
 ],
 "metadata": {
  "celltoolbar": "Create Assignment",
  "colab": {
   "provenance": []
  },
  "kernelspec": {
   "display_name": "Python 3 (ipykernel)",
   "language": "python",
   "name": "python3"
  },
  "language_info": {
   "codemirror_mode": {
    "name": "ipython",
    "version": 3
   },
   "file_extension": ".py",
   "mimetype": "text/x-python",
   "name": "python",
   "nbconvert_exporter": "python",
   "pygments_lexer": "ipython3",
   "version": "3.9.13"
  }
 },
 "nbformat": 4,
 "nbformat_minor": 1
}
